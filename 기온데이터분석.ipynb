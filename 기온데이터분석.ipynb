{
 "cells": [
  {
   "cell_type": "code",
   "execution_count": 17,
   "metadata": {},
   "outputs": [
    {
     "ename": "UnicodeDecodeError",
     "evalue": "'cp949' codec can't decode byte 0xbf in position 2: illegal multibyte sequence",
     "output_type": "error",
     "traceback": [
      "\u001b[1;31m---------------------------------------------------------------------------\u001b[0m",
      "\u001b[1;31mUnicodeDecodeError\u001b[0m                        Traceback (most recent call last)",
      "Cell \u001b[1;32mIn[17], line 4\u001b[0m\n\u001b[0;32m      2\u001b[0m f \u001b[38;5;241m=\u001b[39m\u001b[38;5;28mopen\u001b[39m(\u001b[38;5;124m'\u001b[39m\u001b[38;5;124mclassdata.csv\u001b[39m\u001b[38;5;124m'\u001b[39m)\n\u001b[0;32m      3\u001b[0m data \u001b[38;5;241m=\u001b[39m csv\u001b[38;5;241m.\u001b[39mreader(f)\n\u001b[1;32m----> 4\u001b[0m header \u001b[38;5;241m=\u001b[39m \u001b[38;5;28mnext\u001b[39m(data)\n\u001b[0;32m      5\u001b[0m \u001b[38;5;28;01mfor\u001b[39;00m row \u001b[38;5;129;01min\u001b[39;00m data :\n\u001b[0;32m      6\u001b[0m     \u001b[38;5;66;03m# row[-1] = float(row[-1]) # 최고 기온을 실수로 변형\u001b[39;00m\n\u001b[0;32m      7\u001b[0m     \u001b[38;5;28mprint\u001b[39m(row)\n",
      "\u001b[1;31mUnicodeDecodeError\u001b[0m: 'cp949' codec can't decode byte 0xbf in position 2: illegal multibyte sequence"
     ]
    }
   ],
   "source": [
    "import csv\n",
    "f =open('classdata.csv')\n",
    "data = csv.reader(f)\n",
    "header = next(data)\n",
    "for row in data :\n",
    "    # row[-1] = float(row[-1]) # 최고 기온을 실수로 변형\n",
    "    print(row)\n",
    "f.close()\n"
   ]
  },
  {
   "cell_type": "code",
   "execution_count": 13,
   "metadata": {},
   "outputs": [
    {
     "name": "stdout",
     "output_type": "stream",
     "text": [
      "기상 관측 이래 서울의 최고 기온이 가장 높았던 날은 2018-08-01로,  39.6 도 였습니다.\n"
     ]
    }
   ],
   "source": [
    "import csv\n",
    "max_temp =-999   # 최고 기온 값을 저장할 변수\n",
    "max_date =''       # 최고 기온이 가장 높았던 날짜를 저장할 변수\n",
    "f =open('seoul.csv')\n",
    "data = csv.reader(f)\n",
    "header =next(data)\n",
    "for row in data :\n",
    "    if row[-1] =='' :\n",
    "        row[-1] =-999   # -999를 넣어 빈 문자열이 있던 자리라고 표시\n",
    "    row[-1] = float(row[-1])\n",
    "    if max_temp < row[-1] :\n",
    "        max_date = row[0]\n",
    "        max_temp = row[-1]\n",
    "f.close()\n",
    "print('기상 관측 이래 서울의 최고 기온이 가장 높았던 날은',max_date+'로, ', max_temp, '도 였습니다.')\n"
   ]
  },
  {
   "cell_type": "code",
   "execution_count": null,
   "metadata": {},
   "outputs": [],
   "source": []
  }
 ],
 "metadata": {
  "kernelspec": {
   "display_name": "Python [conda env:base] *",
   "language": "python",
   "name": "conda-base-py"
  },
  "language_info": {
   "codemirror_mode": {
    "name": "ipython",
    "version": 3
   },
   "file_extension": ".py",
   "mimetype": "text/x-python",
   "name": "python",
   "nbconvert_exporter": "python",
   "pygments_lexer": "ipython3",
   "version": "3.12.7"
  }
 },
 "nbformat": 4,
 "nbformat_minor": 4
}
